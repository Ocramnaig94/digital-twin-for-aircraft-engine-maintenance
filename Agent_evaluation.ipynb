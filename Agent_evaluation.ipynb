{
 "cells": [
  {
   "cell_type": "code",
   "execution_count": 1,
   "id": "24628cb8",
   "metadata": {
    "ExecuteTime": {
     "end_time": "2022-11-30T20:05:59.617220Z",
     "start_time": "2022-11-30T20:05:45.877928Z"
    }
   },
   "outputs": [],
   "source": [
    "import pandas as pd\n",
    "import numpy as np\n",
    "import paho.mqtt.subscribe as subscribe\n",
    "import paho.mqtt.publish as publish\n",
    "import json\n",
    "import joblib\n",
    "from tensorflow.keras.models import load_model"
   ]
  },
  {
   "cell_type": "code",
   "execution_count": 2,
   "id": "b50840ed",
   "metadata": {
    "ExecuteTime": {
     "end_time": "2022-11-30T20:05:59.675001Z",
     "start_time": "2022-11-30T20:05:59.664571Z"
    }
   },
   "outputs": [],
   "source": [
    "#Sequence length\n",
    "seq_len = 10\n",
    "\n",
    "filename = 'N-CMAPSS_DS03-012.h5'\n",
    "\n",
    "dataset = filename[-11:-3]\n",
    "\n",
    "X_columns = 14\n",
    "Xw_columns = 18\n",
    "\n",
    "topics = [\"diagnostics\", \"prognostics\"]\n",
    "\n",
    "new_unit = 0\n",
    "\n",
    "path = './deep_learning_models/'"
   ]
  },
  {
   "cell_type": "code",
   "execution_count": 3,
   "id": "a50809ab",
   "metadata": {
    "ExecuteTime": {
     "end_time": "2022-11-07T11:03:55.208798Z",
     "start_time": "2022-11-07T11:03:55.202240Z"
    }
   },
   "outputs": [],
   "source": [
    "def scaling(data):\n",
    "\n",
    "    scaler = joblib.load(path + f'scaler_{dataset}.gz')\n",
    "    \n",
    "    Xw_test_scaled = pd.DataFrame(scaler.transform(data.iloc[:, -Xw_columns:]), columns=data.iloc[:, -Xw_columns:].columns)\n",
    "    \n",
    "    return Xw_test_scaled"
   ]
  },
  {
   "cell_type": "code",
   "execution_count": 4,
   "id": "a80f3686",
   "metadata": {
    "ExecuteTime": {
     "end_time": "2022-11-07T11:03:56.113026Z",
     "start_time": "2022-11-07T11:03:56.106020Z"
    }
   },
   "outputs": [],
   "source": [
    "def state_shaping(Xw_test_scaled, state):\n",
    "\n",
    "    mod = len(Xw_test_scaled) % seq_len\n",
    "    ran = len(Xw_test_scaled) // seq_len\n",
    "    \n",
    "\n",
    "    X_cycle = Xw_test_scaled.iloc[:, -X_columns:].to_numpy()\n",
    "\n",
    "    del Xw_test_scaled\n",
    "    \n",
    "    y_state = np.full((ran, 1), state)\n",
    "     \n",
    "    X_state = np.empty((0,seq_len,X_columns))\n",
    "            \n",
    "    for idx in range(0, ran):  \n",
    "            X_state = np.vstack((X_state, X_cycle[(mod + idx*seq_len): mod+seq_len + idx*seq_len].reshape(1, seq_len, X_columns)))\n",
    "    \n",
    "    return X_state, y_state"
   ]
  },
  {
   "cell_type": "code",
   "execution_count": 5,
   "id": "b5f44bd5",
   "metadata": {
    "ExecuteTime": {
     "end_time": "2022-11-07T11:03:56.776762Z",
     "start_time": "2022-11-07T11:03:56.767006Z"
    }
   },
   "outputs": [],
   "source": [
    "def rul_shaping(Xw_test_scaled, rul):\n",
    "\n",
    "    global c_idx\n",
    "    ruls_inf = [30, 15, 0]\n",
    "    classes = [2, 1, 0]\n",
    "\n",
    "    mod = len(Xw_test_scaled) % seq_len\n",
    "    ran = len(Xw_test_scaled) // seq_len\n",
    "    \n",
    "    X_cycle = Xw_test_scaled.iloc[:, -Xw_columns:].to_numpy()\n",
    "\n",
    "    del Xw_test_scaled\n",
    "     \n",
    "    X_rul = np.empty((0,seq_len,Xw_columns))\n",
    "\n",
    "    if c_idx == -1:\n",
    "        for c_idx, value in enumerate(ruls_inf):             \n",
    "            if value <= rul:\n",
    "                break\n",
    "            \n",
    "    y_rul = np.full((ran, 1), classes[c_idx])\n",
    "\n",
    "    if (rul == ruls_inf[c_idx]):\n",
    "        c_idx += 1\n",
    "            \n",
    "    for idx in range(0, ran):  \n",
    "            X_rul = np.vstack((X_rul, X_cycle[(mod + idx*seq_len): mod+seq_len + idx*seq_len].reshape(1, seq_len, Xw_columns)))\n",
    "    \n",
    "    return X_rul, y_rul"
   ]
  },
  {
   "cell_type": "code",
   "execution_count": 6,
   "id": "9f6e6aea",
   "metadata": {
    "ExecuteTime": {
     "end_time": "2022-11-07T11:03:57.325610Z",
     "start_time": "2022-11-07T11:03:57.317500Z"
    }
   },
   "outputs": [],
   "source": [
    "def evaluating(X_test, y_test, topic):\n",
    "    \n",
    "    if topic == 'diagnostics':\n",
    "        model = load_model(path + f'state_{dataset}_model_{seq_len}.h5')\n",
    "    \n",
    "    if topic == 'prognostics':\n",
    "        model = load_model(path + f'rul_{dataset}_model_{seq_len}.h5')\n",
    "\n",
    "    # Classes\n",
    "    pred = model.predict(X_test)\n",
    "    y_pred = np.argmax(pred, axis=1)\n",
    "    state = np.bincount(y_pred).argmax()\n",
    "    \n",
    "    tot = len(X_test)\n",
    "    correct = 0\n",
    "\n",
    "    for i in range(tot):\n",
    "        if y_test[i] == y_pred[i]:\n",
    "            correct = correct + 1\n",
    "\n",
    "    accuracy = round((correct / tot * 100), 2)\n",
    "    \n",
    "    return state, accuracy"
   ]
  },
  {
   "cell_type": "code",
   "execution_count": 7,
   "id": "be885ea9",
   "metadata": {
    "ExecuteTime": {
     "end_time": "2022-11-07T11:03:57.871404Z",
     "start_time": "2022-11-07T11:03:57.857669Z"
    }
   },
   "outputs": [],
   "source": [
    "def wait_for_data(client, userdata, msg):\n",
    "    \n",
    "    global data, unit, new_unit, cycle, c_idx\n",
    "\n",
    "    if msg.topic == 'diagnostics':\n",
    "        \n",
    "        data = pd.read_json(msg.payload.decode())\n",
    "\n",
    "        unit = data[\"Unit\"].unique()[0]\n",
    "        cycle = data[\"Cycle\"].unique()[0]\n",
    "        \n",
    "        print(f'Unit: {unit} and cycle: {cycle}')\n",
    "    \n",
    "        #Send to dashboard\n",
    "        info_msg = json.dumps({'unit': int(unit), 'cycle': int(cycle)})\n",
    "        publish.single(\"unit\", payload=info_msg, qos=1, hostname=\"localhost\")\n",
    "        \n",
    "        Xw_test_scaled = scaling(data)   \n",
    "        X_state, y_state = state_shaping(Xw_test_scaled, data['State'].iloc[0])\n",
    "        state, accuracy = evaluating(X_state, y_state, msg.topic)\n",
    "        \n",
    "        model_msg = json.dumps({'state': int(state), 'accuracy': accuracy})\n",
    "        publish.single(\"state\", payload=model_msg, qos=1, hostname=\"localhost\")\n",
    "        print(f'State: {state} and accuracy: {accuracy}%\\n')\n",
    "            \n",
    "    if msg.topic == 'prognostics':\n",
    "        \n",
    "        print(f'Unit: {unit} and cycle: {cycle}')\n",
    "\n",
    "        if new_unit != unit:\n",
    "            c_idx = -1\n",
    "            new_unit = unit\n",
    "\n",
    "        Xw_test_scaled = scaling(data)\n",
    "\n",
    "        X_rul, y_rul = rul_shaping(Xw_test_scaled, data['RUL'].iloc[0])\n",
    "\n",
    "        rul, accuracy = evaluating(X_rul, y_rul, msg.topic)\n",
    "\n",
    "        model_msg = json.dumps({'rul': int(rul), 'accuracy': accuracy})\n",
    "        publish.single(\"rul\", payload=model_msg, qos=1, hostname=\"localhost\")\n",
    "        print(f'RUL class: {rul} and accuracy: {accuracy}%\\n')\n"
   ]
  },
  {
   "cell_type": "code",
   "execution_count": null,
   "id": "9e217a73",
   "metadata": {
    "ExecuteTime": {
     "end_time": "2022-11-07T11:08:33.442616Z",
     "start_time": "2022-11-07T11:03:58.770843Z"
    }
   },
   "outputs": [
    {
     "name": "stdout",
     "output_type": "stream",
     "text": [
      "Unit: 13 and cycle: 1\n",
      "48/48 [==============================] - 2s 5ms/step\n",
      "State: 1 and accuracy: 97.35%\n",
      "\n",
      "Unit: 13 and cycle: 2\n",
      "47/47 [==============================] - 2s 5ms/step\n",
      "State: 1 and accuracy: 99.39%\n",
      "\n",
      "Unit: 13 and cycle: 3\n",
      "43/43 [==============================] - 2s 5ms/step\n",
      "State: 1 and accuracy: 92.6%\n",
      "\n",
      "Unit: 13 and cycle: 4\n",
      "45/45 [==============================] - 2s 5ms/step\n",
      "State: 1 and accuracy: 97.43%\n",
      "\n",
      "Unit: 13 and cycle: 5\n",
      "33/33 [==============================] - 2s 5ms/step\n",
      "State: 1 and accuracy: 97.57%\n",
      "\n",
      "Unit: 13 and cycle: 6\n",
      "39/39 [==============================] - 2s 5ms/step\n",
      "State: 1 and accuracy: 96.3%\n",
      "\n",
      "Unit: 13 and cycle: 7\n",
      "55/55 [==============================] - 3s 5ms/step\n",
      "State: 1 and accuracy: 94.6%\n",
      "\n",
      "Unit: 13 and cycle: 8\n",
      "28/28 [==============================] - 2s 5ms/step\n",
      "State: 1 and accuracy: 99.89%\n",
      "\n",
      "Unit: 13 and cycle: 9\n",
      "48/48 [==============================] - 2s 5ms/step\n",
      "State: 1 and accuracy: 95.27%\n",
      "\n",
      "Unit: 13 and cycle: 10\n",
      "55/55 [==============================] - 2s 5ms/step\n",
      "State: 1 and accuracy: 96.84%\n",
      "\n",
      "Unit: 13 and cycle: 11\n",
      "40/40 [==============================] - 2s 5ms/step\n",
      "State: 1 and accuracy: 98.66%\n",
      "\n",
      "Unit: 13 and cycle: 12\n",
      "48/48 [==============================] - 3s 5ms/step\n",
      "State: 1 and accuracy: 79.14%\n",
      "\n",
      "Unit: 13 and cycle: 13\n",
      "45/45 [==============================] - 2s 5ms/step\n",
      "State: 1 and accuracy: 92.0%\n",
      "\n",
      "Unit: 13 and cycle: 14\n",
      "45/45 [==============================] - 2s 5ms/step\n",
      "State: 1 and accuracy: 90.72%\n",
      "\n",
      "Unit: 13 and cycle: 15\n",
      "29/29 [==============================] - 2s 5ms/step\n",
      "State: 1 and accuracy: 96.51%\n",
      "\n",
      "Unit: 13 and cycle: 16\n",
      "59/59 [==============================] - 2s 5ms/step\n",
      "State: 1 and accuracy: 95.78%\n",
      "\n",
      "Unit: 13 and cycle: 17\n",
      "37/37 [==============================] - 3s 5ms/step\n",
      "State: 1 and accuracy: 94.75%\n",
      "\n",
      "Unit: 13 and cycle: 18\n",
      "52/52 [==============================] - 2s 5ms/step\n",
      "State: 1 and accuracy: 58.72%\n",
      "\n",
      "Unit: 13 and cycle: 19\n",
      "34/34 [==============================] - 2s 5ms/step\n",
      "State: 0 and accuracy: 60.17%\n",
      "\n",
      "Unit: 13 and cycle: 20\n",
      "45/45 [==============================] - 2s 5ms/step\n",
      "State: 1 and accuracy: 47.73%\n",
      "\n",
      "Unit: 13 and cycle: 21\n",
      "35/35 [==============================] - 2s 5ms/step\n",
      "State: 1 and accuracy: 11.68%\n",
      "\n",
      "Unit: 13 and cycle: 22\n",
      "58/58 [==============================] - 3s 5ms/step\n",
      "State: 0 and accuracy: 51.95%\n",
      "\n",
      "Unit: 13 and cycle: 23\n",
      "44/44 [==============================] - 2s 5ms/step\n",
      "State: 1 and accuracy: 38.66%\n",
      "\n",
      "Unit: 13 and cycle: 24\n",
      "55/55 [==============================] - 2s 5ms/step\n",
      "State: 0 and accuracy: 59.25%\n",
      "\n",
      "Unit: 13 and cycle: 25\n",
      "55/55 [==============================] - 2s 5ms/step\n",
      "State: 0 and accuracy: 52.82%\n",
      "\n",
      "Unit: 13 and cycle: 26\n",
      "46/46 [==============================] - 3s 5ms/step\n",
      "State: 0 and accuracy: 82.43%\n",
      "\n",
      "Unit: 13 and cycle: 27\n",
      "52/52 [==============================] - 3s 5ms/step\n",
      "State: 0 and accuracy: 73.26%\n",
      "\n",
      "Unit: 13 and cycle: 28\n",
      "38/38 [==============================] - 2s 5ms/step\n",
      "State: 1 and accuracy: 46.52%\n",
      "\n",
      "Unit: 13 and cycle: 29\n",
      "41/41 [==============================] - 2s 5ms/step\n",
      "State: 0 and accuracy: 79.27%\n",
      "\n"
     ]
    }
   ],
   "source": [
    "try:\n",
    "    subscribe.callback(wait_for_data, topics, qos=1, hostname=\"localhost\")\n",
    "except ConnectionRefusedError:\n",
    "    print('Broker may not be available')"
   ]
  },
  {
   "cell_type": "code",
   "execution_count": null,
   "id": "c9f215b4",
   "metadata": {},
   "outputs": [],
   "source": []
  }
 ],
 "metadata": {
  "kernelspec": {
   "display_name": "Python 3 (ipykernel)",
   "language": "python",
   "name": "python3"
  },
  "language_info": {
   "codemirror_mode": {
    "name": "ipython",
    "version": 3
   },
   "file_extension": ".py",
   "mimetype": "text/x-python",
   "name": "python",
   "nbconvert_exporter": "python",
   "pygments_lexer": "ipython3",
   "version": "3.10.11"
  },
  "latex_envs": {
   "LaTeX_envs_menu_present": true,
   "autoclose": false,
   "autocomplete": true,
   "bibliofile": "biblio.bib",
   "cite_by": "apalike",
   "current_citInitial": 1,
   "eqLabelWithNumbers": true,
   "eqNumInitial": 1,
   "hotkeys": {
    "equation": "Ctrl-E",
    "itemize": "Ctrl-I"
   },
   "labels_anchors": false,
   "latex_user_defs": false,
   "report_style_numbering": false,
   "user_envs_cfg": false
  },
  "toc": {
   "base_numbering": 1,
   "nav_menu": {},
   "number_sections": true,
   "sideBar": true,
   "skip_h1_title": false,
   "title_cell": "Table of Contents",
   "title_sidebar": "Contents",
   "toc_cell": false,
   "toc_position": {},
   "toc_section_display": true,
   "toc_window_display": false
  },
  "varInspector": {
   "cols": {
    "lenName": 16,
    "lenType": 16,
    "lenVar": 40
   },
   "kernels_config": {
    "python": {
     "delete_cmd_postfix": "",
     "delete_cmd_prefix": "del ",
     "library": "var_list.py",
     "varRefreshCmd": "print(var_dic_list())"
    },
    "r": {
     "delete_cmd_postfix": ") ",
     "delete_cmd_prefix": "rm(",
     "library": "var_list.r",
     "varRefreshCmd": "cat(var_dic_list()) "
    }
   },
   "types_to_exclude": [
    "module",
    "function",
    "builtin_function_or_method",
    "instance",
    "_Feature"
   ],
   "window_display": false
  }
 },
 "nbformat": 4,
 "nbformat_minor": 5
}
