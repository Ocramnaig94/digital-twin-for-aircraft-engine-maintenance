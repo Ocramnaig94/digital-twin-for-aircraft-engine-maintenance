{
 "cells": [
  {
   "cell_type": "code",
   "execution_count": 1,
   "id": "fdc95d72",
   "metadata": {
    "ExecuteTime": {
     "end_time": "2022-11-30T19:36:26.426735Z",
     "start_time": "2022-11-30T19:36:24.020745Z"
    }
   },
   "outputs": [],
   "source": [
    "import h5py\n",
    "import pandas as pd\n",
    "import numpy as np\n",
    "import paho.mqtt.publish as publish\n",
    "import paho.mqtt.subscribe as subscribe"
   ]
  },
  {
   "cell_type": "code",
   "execution_count": 2,
   "id": "179a97bc",
   "metadata": {
    "ExecuteTime": {
     "end_time": "2022-11-30T19:36:27.923763Z",
     "start_time": "2022-11-30T19:36:27.917472Z"
    }
   },
   "outputs": [],
   "source": [
    "#Sequence length\n",
    "seq_len = 10\n",
    "\n",
    "filename = 'N-CMAPSS_DS03-012.h5'\n",
    "\n",
    "dataset = filename[-11:-3]"
   ]
  },
  {
   "cell_type": "code",
   "execution_count": 3,
   "id": "e5d4f42f",
   "metadata": {
    "ExecuteTime": {
     "end_time": "2022-11-30T19:36:37.085684Z",
     "start_time": "2022-11-30T19:36:28.220575Z"
    }
   },
   "outputs": [
    {
     "name": "stdout",
     "output_type": "stream",
     "text": [
      "The test set:  21%  2.070.550 observations. Units: [13 14 15]\n"
     ]
    }
   ],
   "source": [
    "with h5py.File(filename, 'r') as hdf:\n",
    "    \n",
    "    X_test = pd.concat([pd.DataFrame(np.array(hdf.get(f'W_test')), columns=np.array(hdf.get('W_var')).astype('U')),\n",
    "                pd.DataFrame(np.array(hdf.get('X_s_test')), columns=np.array(hdf.get('X_s_var')).astype('U'))], axis=1)\n",
    "    \n",
    "    X_test.rename(columns={'alt':'Altitude'}, inplace=True)\n",
    "    \n",
    "    Xw_columns = X_test.shape[1]\n",
    "    \n",
    "    aux_test = pd.concat([pd.DataFrame(np.array(hdf.get('Y_test')), columns=['RUL']),\n",
    "                pd.DataFrame(np.array(hdf.get('A_test')), columns=np.array(hdf.get('A_var')).astype('U')).astype('int64')], axis=1)          \n",
    "\n",
    "    aux_test.rename(columns={'unit':'Unit','cycle':'Cycle','Fc':'Class','hs':'State'}, inplace=True)\n",
    "    \n",
    "    aux_columns = aux_test.shape[1]\n",
    "    \n",
    "    test_units = aux_test['Unit'].unique()[len(aux_test['Unit'].unique())//2:]\n",
    "    \n",
    "    # Compute length inital two datasets\n",
    "    train_len = len(np.array(hdf.get('X_s_dev')))\n",
    "    test_len = len(X_test)\n",
    "    total_len = train_len + test_len\n",
    "    \n",
    "    test = pd.concat([aux_test, X_test], axis=1)\n",
    "\n",
    "    #Update the test set\n",
    "    X_test = test[test['Unit'].isin(test_units)].iloc[:, -Xw_columns:].reset_index(drop=True)\n",
    "    aux_test = test[test['Unit'].isin(test_units)].iloc[:, :aux_columns].reset_index(drop=True)\n",
    "    text_units = aux_test['Unit'].unique()\n",
    "\n",
    "    del test\n",
    "\n",
    "    # Compute length dataset\n",
    "    test_len = len(X_test)\n",
    "\n",
    "    \n",
    "    print(f'The test set:  {round(test_len/total_len*100)}%  {test_len:,} observations. Units: {test_units}'.replace(',','.'))"
   ]
  },
  {
   "cell_type": "code",
   "execution_count": 4,
   "id": "07a2549d",
   "metadata": {
    "ExecuteTime": {
     "end_time": "2022-11-30T19:36:55.094707Z",
     "start_time": "2022-11-30T19:36:54.872679Z"
    }
   },
   "outputs": [],
   "source": [
    "test = pd.concat([aux_test, X_test], axis=1)"
   ]
  },
  {
   "cell_type": "code",
   "execution_count": 5,
   "id": "5752a998",
   "metadata": {
    "ExecuteTime": {
     "end_time": "2022-11-30T19:36:58.344609Z",
     "start_time": "2022-11-30T19:36:58.336346Z"
    }
   },
   "outputs": [],
   "source": [
    "def wait_for_request(client, userdata, msg):\n",
    "    \n",
    "    global unit, cycle, idx\n",
    "\n",
    "    cycle_data = test[(test['Unit'] == unit) & (test['Cycle'] == cycle)]\n",
    "    \n",
    "    # If the n. of cycles is the last, remove unit and go to the next one\n",
    "    if not len(cycle_data):\n",
    "        \n",
    "        idx += 1\n",
    "        \n",
    "        # If units are finished, restart\n",
    "        if idx == len(test_units):     \n",
    "            idx = 0\n",
    "        \n",
    "        \n",
    "        cycle = 1\n",
    "        unit = test_units[idx]\n",
    "        cycle_data = test[(test['Unit'] == unit) & (test['Cycle'] == cycle)]\n",
    "        \n",
    "    \n",
    "    publish.single(\"diagnostics\", payload=cycle_data.to_json(), qos=1, hostname=\"localhost\")\n",
    "    \n",
    "    cycle += 1\n"
   ]
  },
  {
   "cell_type": "code",
   "execution_count": null,
   "id": "f3a6e6ea",
   "metadata": {
    "ExecuteTime": {
     "end_time": "2022-11-07T11:08:56.534028Z",
     "start_time": "2022-11-07T11:03:31.079639Z"
    }
   },
   "outputs": [],
   "source": [
    "# Setting initial unit and cycle\n",
    "idx = 0\n",
    "cycle = 1\n",
    "unit = test_units[idx]\n",
    "\n",
    "try:\n",
    "    subscribe.callback(wait_for_request, \"request\", qos=1, hostname=\"localhost\")\n",
    "except ConnectionRefusedError:\n",
    "    print('Broker may not be available')"
   ]
  },
  {
   "cell_type": "code",
   "execution_count": null,
   "id": "88f8be1b",
   "metadata": {},
   "outputs": [],
   "source": []
  }
 ],
 "metadata": {
  "kernelspec": {
   "display_name": "Python 3 (ipykernel)",
   "language": "python",
   "name": "python3"
  },
  "language_info": {
   "codemirror_mode": {
    "name": "ipython",
    "version": 3
   },
   "file_extension": ".py",
   "mimetype": "text/x-python",
   "name": "python",
   "nbconvert_exporter": "python",
   "pygments_lexer": "ipython3",
   "version": "3.10.11"
  },
  "latex_envs": {
   "LaTeX_envs_menu_present": true,
   "autoclose": false,
   "autocomplete": true,
   "bibliofile": "biblio.bib",
   "cite_by": "apalike",
   "current_citInitial": 1,
   "eqLabelWithNumbers": true,
   "eqNumInitial": 1,
   "hotkeys": {
    "equation": "Ctrl-E",
    "itemize": "Ctrl-I"
   },
   "labels_anchors": false,
   "latex_user_defs": false,
   "report_style_numbering": false,
   "user_envs_cfg": false
  },
  "toc": {
   "base_numbering": 1,
   "nav_menu": {},
   "number_sections": true,
   "sideBar": true,
   "skip_h1_title": false,
   "title_cell": "Table of Contents",
   "title_sidebar": "Contents",
   "toc_cell": false,
   "toc_position": {},
   "toc_section_display": true,
   "toc_window_display": false
  },
  "varInspector": {
   "cols": {
    "lenName": 16,
    "lenType": 16,
    "lenVar": 40
   },
   "kernels_config": {
    "python": {
     "delete_cmd_postfix": "",
     "delete_cmd_prefix": "del ",
     "library": "var_list.py",
     "varRefreshCmd": "print(var_dic_list())"
    },
    "r": {
     "delete_cmd_postfix": ") ",
     "delete_cmd_prefix": "rm(",
     "library": "var_list.r",
     "varRefreshCmd": "cat(var_dic_list()) "
    }
   },
   "types_to_exclude": [
    "module",
    "function",
    "builtin_function_or_method",
    "instance",
    "_Feature"
   ],
   "window_display": false
  }
 },
 "nbformat": 4,
 "nbformat_minor": 5
}
