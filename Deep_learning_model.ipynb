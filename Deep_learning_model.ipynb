{
 "cells": [
  {
   "cell_type": "code",
   "execution_count": 1,
   "id": "b9ae2716",
   "metadata": {
    "ExecuteTime": {
     "end_time": "2022-11-23T10:59:09.212199Z",
     "start_time": "2022-11-23T10:58:59.665460Z"
    },
    "executionInfo": {
     "elapsed": 3011,
     "status": "ok",
     "timestamp": 1665508183485,
     "user": {
      "displayName": "Giovanni Marco Bisanti",
      "userId": "17846268117624375118"
     },
     "user_tz": -120
    },
    "id": "b9ae2716"
   },
   "outputs": [],
   "source": [
    "import h5py\n",
    "import pandas as pd\n",
    "import joblib\n",
    "import numpy as np\n",
    "from sklearn.preprocessing import StandardScaler\n",
    "from tensorflow.keras.models import Sequential, load_model\n",
    "from tensorflow.keras.layers import Bidirectional, LSTM, Dense\n",
    "from tensorflow.keras.optimizers import Adam\n",
    "from sklearn.metrics import classification_report"
   ]
  },
  {
   "cell_type": "code",
   "execution_count": 2,
   "id": "33e628db",
   "metadata": {
    "ExecuteTime": {
     "end_time": "2022-11-23T10:59:09.288583Z",
     "start_time": "2022-11-23T10:59:09.277863Z"
    }
   },
   "outputs": [],
   "source": [
    "path = ''\n",
    "learning_path = './deep_learning_models/'"
   ]
  },
  {
   "cell_type": "code",
   "execution_count": 3,
   "id": "250c8f37",
   "metadata": {
    "ExecuteTime": {
     "end_time": "2022-11-23T10:59:09.363369Z",
     "start_time": "2022-11-23T10:59:09.350186Z"
    },
    "executionInfo": {
     "elapsed": 7,
     "status": "ok",
     "timestamp": 1665508204288,
     "user": {
      "displayName": "Giovanni Marco Bisanti",
      "userId": "17846268117624375118"
     },
     "user_tz": -120
    },
    "id": "250c8f37"
   },
   "outputs": [],
   "source": [
    "#Sequence length\n",
    "seq_len = 10\n",
    "\n",
    "filename = path + 'N-CMAPSS_DS03-012.h5'\n",
    "\n",
    "dataset = filename[-11:-3]\n",
    "\n",
    "# RUL classes  0: 0-29, 1: 15-29, 2: >= 30\n",
    "ruls_inf = [30, 15, 0]\n",
    "classes = [2, 1, 0]"
   ]
  },
  {
   "cell_type": "code",
   "execution_count": 4,
   "id": "f9a4bd57",
   "metadata": {
    "ExecuteTime": {
     "end_time": "2022-11-09T19:43:08.151543Z",
     "start_time": "2022-11-09T19:42:49.489384Z"
    },
    "colab": {
     "base_uri": "https://localhost:8080/"
    },
    "executionInfo": {
     "elapsed": 32238,
     "status": "ok",
     "timestamp": 1665508236520,
     "user": {
      "displayName": "Giovanni Marco Bisanti",
      "userId": "17846268117624375118"
     },
     "user_tz": -120
    },
    "id": "f9a4bd57",
    "outputId": "e1496d7f-8fd0-4de3-8333-3b7fef8fd65d"
   },
   "outputs": [
    {
     "name": "stdout",
     "output_type": "stream",
     "text": [
      "The train set: 57%  5.571.277 observations. Units: [1 2 3 4 5 6 7 8 9]\n",
      "The val set:   22%  2.181.010 observations. Units: [10 11 12]\n",
      "The test set:  21%  2.070.550 observations. Units: [13 14 15]\n"
     ]
    }
   ],
   "source": [
    "with h5py.File(filename, 'r') as hdf:\n",
    "    \n",
    "    X_columns = np.array(hdf.get(f'X_s_dev')).shape[1]\n",
    "\n",
    "    X_train = pd.concat([pd.DataFrame(np.array(hdf.get(f'W_dev')), columns=np.array(hdf.get('W_var')).astype('U')),\n",
    "                pd.DataFrame(np.array(hdf.get('X_s_dev')), columns=np.array(hdf.get('X_s_var')).astype('U'))], axis=1)\n",
    "    \n",
    "    X_train.rename(columns={'alt':'Altitude'}, inplace=True)\n",
    "    \n",
    "    Xw_columns = X_train.shape[1]\n",
    "\n",
    "    aux_train = pd.concat([pd.DataFrame(np.array(hdf.get('Y_dev')), columns=['RUL']),\n",
    "                pd.DataFrame(np.array(hdf.get('A_dev')), columns=np.array(hdf.get('A_var')).astype('U')).astype('int64')], axis=1)                 \n",
    "\n",
    "    aux_train.rename(columns={'unit':'Unit','cycle':'Cycle','Fc':'Class','hs':'State'}, inplace=True)\n",
    "    \n",
    "    aux_columns = aux_train.shape[1]\n",
    "    \n",
    "    X_test = pd.concat([pd.DataFrame(np.array(hdf.get(f'W_test')), columns=np.array(hdf.get('W_var')).astype('U')),\n",
    "                pd.DataFrame(np.array(hdf.get('X_s_test')), columns=np.array(hdf.get('X_s_var')).astype('U'))], axis=1)\n",
    "    \n",
    "    X_test.rename(columns={'alt':'Altitude'}, inplace=True)\n",
    "    \n",
    "    aux_test = pd.concat([pd.DataFrame(np.array(hdf.get('Y_test')), columns=['RUL']),\n",
    "                pd.DataFrame(np.array(hdf.get('A_test')), columns=np.array(hdf.get('A_var')).astype('U')).astype('int64')], axis=1)            \n",
    "\n",
    "    aux_test.rename(columns={'unit':'Unit','cycle':'Cycle','Fc':'Class','hs':'State'}, inplace=True)\n",
    "    \n",
    "    \n",
    "    # Since training sets are less than 70%, construct validation set from the test set\n",
    "\n",
    "    train_units = aux_train['Unit'].unique()\n",
    "    val_units =  aux_test['Unit'].unique()[:len(aux_test['Unit'].unique())//2]\n",
    "    test_units = aux_test['Unit'].unique()[len(aux_test['Unit'].unique())//2:]\n",
    "    \n",
    "    \n",
    "    test = pd.concat([aux_test, X_test], axis=1)\n",
    "\n",
    "    # Take validation set from test set\n",
    "    X_val = test[test['Unit'].isin(val_units)].iloc[:, -Xw_columns:].reset_index(drop=True)\n",
    "    aux_val = test[test['Unit'].isin(val_units)].iloc[:, :aux_columns].reset_index(drop=True)\n",
    "\n",
    "    #Update the remaining test set\n",
    "    X_test = test[test['Unit'].isin(test_units)].iloc[:, -Xw_columns:].reset_index(drop=True)\n",
    "    aux_test = test[test['Unit'].isin(test_units)].iloc[:, :aux_columns].reset_index(drop=True)\n",
    "\n",
    "    del test\n",
    "\n",
    "    # Compute length datasets\n",
    "    train_len = len(X_train)\n",
    "    val_len = len(X_val)\n",
    "    test_len = len(X_test)\n",
    "    total_len = train_len + val_len + test_len\n",
    "    \n",
    "    print(f'The train set: {round(train_len/total_len*100)}%  {train_len:,} observations. Units: {train_units}'.replace(',','.') + \n",
    "    f'\\nThe val set:   {round(val_len/total_len*100)}%  {val_len:,} observations. Units: {val_units}'.replace(',','.') +\n",
    "    f'\\nThe test set:  {round(test_len/total_len*100)}%  {test_len:,} observations. Units: {test_units}'.replace(',','.'))"
   ]
  },
  {
   "cell_type": "code",
   "execution_count": 5,
   "id": "8db54f49",
   "metadata": {
    "ExecuteTime": {
     "end_time": "2022-11-03T08:35:46.835870Z",
     "start_time": "2022-11-03T08:35:44.369165Z"
    },
    "executionInfo": {
     "elapsed": 3794,
     "status": "ok",
     "timestamp": 1665508240306,
     "user": {
      "displayName": "Giovanni Marco Bisanti",
      "userId": "17846268117624375118"
     },
     "user_tz": -120
    },
    "id": "8db54f49"
   },
   "outputs": [],
   "source": [
    "scaler = StandardScaler()\n",
    "X_train_scaled = pd.DataFrame(scaler.fit_transform(X_train), columns=X_train.columns)\n",
    "X_val_scaled = pd.DataFrame(scaler.transform(X_val), columns=X_val.columns)\n",
    "X_test_scaled = pd.DataFrame(scaler.transform(X_test), columns=X_test.columns)\n",
    "\n",
    "try:\n",
    "    scaler = joblib.load(learning_path + f'{dataset}_scaler.gz')\n",
    "except:\n",
    "    joblib.dump(scaler, learning_path + f'{dataset}_scaler.gz')\n",
    "\n",
    "del X_train, X_val, X_test"
   ]
  },
  {
   "cell_type": "code",
   "execution_count": 6,
   "id": "39f6613d",
   "metadata": {
    "ExecuteTime": {
     "end_time": "2022-11-03T08:35:54.869169Z",
     "start_time": "2022-11-03T08:35:51.564375Z"
    },
    "id": "39f6613d"
   },
   "outputs": [],
   "source": [
    "train = pd.concat([aux_train, X_train_scaled], axis=1)\n",
    "val = pd.concat([aux_val, X_val_scaled], axis=1)\n",
    "test = pd.concat([aux_test, X_test_scaled], axis=1)\n",
    "\n",
    "del aux_train, aux_val, aux_test, X_train_scaled, X_val_scaled, X_test_scaled"
   ]
  },
  {
   "cell_type": "code",
   "execution_count": 7,
   "id": "b347a16c",
   "metadata": {
    "ExecuteTime": {
     "end_time": "2022-11-03T08:53:11.826247Z",
     "start_time": "2022-11-03T08:46:52.636404Z"
    },
    "colab": {
     "base_uri": "https://localhost:8080/"
    },
    "executionInfo": {
     "elapsed": 176019,
     "status": "ok",
     "timestamp": 1665499075890,
     "user": {
      "displayName": "Giovanni Marco Bisanti",
      "userId": "17846268117624375118"
     },
     "user_tz": -120
    },
    "id": "b347a16c",
    "outputId": "f6a14d87-e11b-4a54-d03a-2333c89a1e00"
   },
   "outputs": [
    {
     "name": "stdout",
     "output_type": "stream",
     "text": [
      "\n",
      "UNIT 1 of 9: N. 1 \n",
      "CYCLE of 72:  1 2 3 4 5 6 7 8 9 10 11 12 13 14 15 16 17 18 19 20 21 22 23 24 25 26 27 28 29 30 31 32 33 34 35 36 37 38 39 40 41 42 43 44 45 46 47 48 49 50 51 52 53 54 55 56 57 58 59 60 61 62 63 64 65 66 67 68 69 70 71 72 \n",
      "UNIT 2 of 9: N. 2 \n",
      "CYCLE of 73:  1 2 3 4 5 6 7 8 9 10 11 12 13 14 15 16 17 18 19 20 21 22 23 24 25 26 27 28 29 30 31 32 33 34 35 36 37 38 39 40 41 42 43 44 45 46 47 48 49 50 51 52 53 54 55 56 57 58 59 60 61 62 63 64 65 66 67 68 69 70 71 72 73 \n",
      "UNIT 3 of 9: N. 3 \n",
      "CYCLE of 67:  1 2 3 4 5 6 7 8 9 10 11 12 13 14 15 16 17 18 19 20 21 22 23 24 25 26 27 28 29 30 31 32 33 34 35 36 37 38 39 40 41 42 43 44 45 46 47 48 49 50 51 52 53 54 55 56 57 58 59 60 61 62 63 64 65 66 67 \n",
      "UNIT 4 of 9: N. 4 \n",
      "CYCLE of 60:  1 2 3 4 5 6 7 8 9 10 11 12 13 14 15 16 17 18 19 20 21 22 23 24 25 26 27 28 29 30 31 32 33 34 35 36 37 38 39 40 41 42 43 44 45 46 47 48 49 50 51 52 53 54 55 56 57 58 59 60 \n",
      "UNIT 5 of 9: N. 5 \n",
      "CYCLE of 93:  1 2 3 4 5 6 7 8 9 10 11 12 13 14 15 16 17 18 19 20 21 22 23 24 25 26 27 28 29 30 31 32 33 34 35 36 37 38 39 40 41 42 43 44 45 46 47 48 49 50 51 52 53 54 55 56 57 58 59 60 61 62 63 64 65 66 67 68 69 70 71 72 73 74 75 76 77 78 79 80 81 82 83 84 85 86 87 88 89 90 91 92 93 \n",
      "UNIT 6 of 9: N. 6 \n",
      "CYCLE of 63:  1 2 3 4 5 6 7 8 9 10 11 12 13 14 15 16 17 18 19 20 21 22 23 24 25 26 27 28 29 30 31 32 33 34 35 36 37 38 39 40 41 42 43 44 45 46 47 48 49 50 51 52 53 54 55 56 57 58 59 60 61 62 63 \n",
      "UNIT 7 of 9: N. 7 \n",
      "CYCLE of 80:  1 2 3 4 5 6 7 8 9 10 11 12 13 14 15 16 17 18 19 20 21 22 23 24 25 26 27 28 29 30 31 32 33 34 35 36 37 38 39 40 41 42 43 44 45 46 47 48 49 50 51 52 53 54 55 56 57 58 59 60 61 62 63 64 65 66 67 68 69 70 71 72 73 74 75 76 77 78 79 80 \n",
      "UNIT 8 of 9: N. 8 \n",
      "CYCLE of 71:  1 2 3 4 5 6 7 8 9 10 11 12 13 14 15 16 17 18 19 20 21 22 23 24 25 26 27 28 29 30 31 32 33 34 35 36 37 38 39 40 41 42 43 44 45 46 47 48 49 50 51 52 53 54 55 56 57 58 59 60 61 62 63 64 65 66 67 68 69 70 71 \n",
      "UNIT 9 of 9: N. 9 \n",
      "CYCLE of 84:  1 2 3 4 5 6 7 8 9 10 11 12 13 14 15 16 17 18 19 20 21 22 23 24 25 26 27 28 29 30 31 32 33 34 35 36 37 38 39 40 41 42 43 44 45 46 47 48 49 50 51 52 53 54 55 56 57 58 59 60 61 62 63 64 65 66 67 68 69 70 71 72 73 74 75 76 77 78 79 80 81 82 83 84 "
     ]
    }
   ],
   "source": [
    "# Rehsape data\n",
    "X_train_state = np.empty((0,seq_len,X_columns))\n",
    "y_train_state = np.empty((0,1))\n",
    "X_train_rul = np.empty((0,seq_len,Xw_columns))\n",
    "y_train_rul = np.empty((0,1))\n",
    "\n",
    "\n",
    "for idx, unit in enumerate(list(train['Unit'].unique()), start=1):\n",
    "    \n",
    "    print(f\"\\nUNIT {idx} of {len(train['Unit'].unique())}: N. {unit} \\nCYCLE of {train[train['Unit'] == unit]['Cycle'].unique()[-1]}: \", end = ' ')\n",
    "\n",
    "    single_unit_state = np.empty((0,seq_len,X_columns))\n",
    "    single_unit_rul = np.empty((0,seq_len,Xw_columns))\n",
    "\n",
    "    c_idx = -1\n",
    "    \n",
    "    for cycle in list(train[train['Unit'] == unit]['Cycle'].unique()):\n",
    "        \n",
    "        print(cycle, end = ' ')\n",
    "\n",
    "        X_cycle = train[(train['Unit'] == unit) & (train['Cycle'] == cycle)].iloc[:, -X_columns:].to_numpy()\n",
    "\n",
    "        mod = len(X_cycle) % seq_len\n",
    "        ran = len(X_cycle) // seq_len\n",
    "\n",
    "        single_cycle_state = np.empty((0,seq_len,X_columns))\n",
    "        for idx in range(0, ran):\n",
    "            single_cycle_state = np.vstack((single_cycle_state, X_cycle[(mod + idx*seq_len): mod+seq_len + idx*seq_len].reshape(1, seq_len, X_columns) ))\n",
    "  \n",
    "        single_unit_state = np.vstack((single_unit_state, single_cycle_state))\n",
    "\n",
    "        state = train[(train['Unit'] == unit) & (train['Cycle'] == cycle)]['State'].iloc[0]\n",
    "\n",
    "        new_state = np.full((ran, 1), state)\n",
    "\n",
    "        y_train_state = np.vstack((y_train_state, new_state))  \n",
    "\n",
    "        if not state:\n",
    "            \n",
    "            single_cycle_rul = np.empty((0,seq_len,Xw_columns))\n",
    "\n",
    "            X_cycle = train[(train['Unit'] == unit) & (train['Cycle'] == cycle)].iloc[:, -Xw_columns:].to_numpy()\n",
    "\n",
    "            \n",
    "            rul = train[(train['Unit'] == unit) & (train['Cycle'] == cycle)]['RUL'].iloc[0]\n",
    "            \n",
    "            # Find new starting RUL c_idx\n",
    "            if c_idx == -1:\n",
    "                for c_idx, value in enumerate(ruls_inf):             \n",
    "                    if value <= rul:\n",
    "                        break\n",
    "            \n",
    "            new_rul = np.full((ran, 1), classes[c_idx])\n",
    "            \n",
    "            if (rul == ruls_inf[c_idx]):\n",
    "                c_idx += 1\n",
    "\n",
    "\n",
    "            y_train_rul = np.vstack((y_train_rul, new_rul))    \n",
    "\n",
    "            for idx in range(0, ran):\n",
    "            \n",
    "                single_cycle_rul = np.vstack((single_cycle_rul, X_cycle[(mod + idx*seq_len): mod+seq_len + idx*seq_len].reshape(1, seq_len, Xw_columns) ))\n",
    "  \n",
    "            single_unit_rul = np.vstack((single_unit_rul, single_cycle_rul))\n",
    "            \n",
    "    X_train_rul = np.vstack((X_train_rul, single_unit_rul))\n",
    "    X_train_state = np.vstack((X_train_state, single_unit_state))\n",
    "\n"
   ]
  },
  {
   "cell_type": "code",
   "execution_count": 8,
   "id": "33106668",
   "metadata": {
    "ExecuteTime": {
     "end_time": "2022-10-07T09:51:58.784426Z",
     "start_time": "2022-10-07T09:51:58.780617Z"
    },
    "colab": {
     "base_uri": "https://localhost:8080/"
    },
    "executionInfo": {
     "elapsed": 429,
     "status": "ok",
     "timestamp": 1665499421587,
     "user": {
      "displayName": "Giovanni Marco Bisanti",
      "userId": "17846268117624375118"
     },
     "user_tz": -120
    },
    "id": "33106668",
    "outputId": "9ab55d2e-6679-4003-8634-1829565e2797"
   },
   "outputs": [
    {
     "name": "stdout",
     "output_type": "stream",
     "text": [
      "(556823, 10, 14)\n",
      "(556823, 1)\n",
      "(371997, 10, 18)\n",
      "(371997, 1)\n"
     ]
    }
   ],
   "source": [
    "print(X_train_state.shape)\n",
    "print(y_train_state.shape)\n",
    "print(X_train_rul.shape)\n",
    "print(y_train_rul.shape)"
   ]
  },
  {
   "cell_type": "code",
   "execution_count": 9,
   "id": "b948d003",
   "metadata": {
    "ExecuteTime": {
     "end_time": "2022-11-03T09:35:01.932289Z",
     "start_time": "2022-11-03T09:32:08.491550Z"
    },
    "colab": {
     "base_uri": "https://localhost:8080/"
    },
    "executionInfo": {
     "elapsed": 65143,
     "status": "ok",
     "timestamp": 1665499506118,
     "user": {
      "displayName": "Giovanni Marco Bisanti",
      "userId": "17846268117624375118"
     },
     "user_tz": -120
    },
    "id": "b948d003",
    "outputId": "40ec9d08-ae7a-40ba-9387-9b4bb91ad5c7"
   },
   "outputs": [
    {
     "name": "stdout",
     "output_type": "stream",
     "text": [
      "\n",
      "UNIT 1 of 3: N. 10 \n",
      "CYCLE of 66:  1 2 3 4 5 6 7 8 9 10 11 12 13 14 15 16 17 18 19 20 21 22 23 24 25 26 27 28 29 30 31 32 33 34 35 36 37 38 39 40 41 42 43 44 45 46 47 48 49 50 51 52 53 54 55 56 57 58 59 60 61 62 63 64 65 66 \n",
      "UNIT 2 of 3: N. 11 \n",
      "CYCLE of 59:  1 2 3 4 5 6 7 8 9 10 11 12 13 14 15 16 17 18 19 20 21 22 23 24 25 26 27 28 29 30 31 32 33 34 35 36 37 38 39 40 41 42 43 44 45 46 47 48 49 50 51 52 53 54 55 56 57 58 59 \n",
      "UNIT 3 of 3: N. 12 \n",
      "CYCLE of 93:  1 2 3 4 5 6 7 8 9 10 11 12 13 14 15 16 17 18 19 20 21 22 23 24 25 26 27 28 29 30 31 32 33 34 35 36 37 38 39 40 41 42 43 44 45 46 47 48 49 50 51 52 53 54 55 56 57 58 59 60 61 62 63 64 65 66 67 68 69 70 71 72 73 74 75 76 77 78 79 80 81 82 83 84 85 86 87 88 89 90 91 92 93 "
     ]
    }
   ],
   "source": [
    "# Rehsape data\n",
    "X_val_state = np.empty((0,seq_len,X_columns))\n",
    "y_val_state = np.empty((0,1))\n",
    "X_val_rul = np.empty((0,seq_len,Xw_columns))\n",
    "y_val_rul = np.empty((0,1))\n",
    "\n",
    "\n",
    "for idx, unit in enumerate(list(val['Unit'].unique()), start=1):\n",
    "    \n",
    "    print(f\"\\nUNIT {idx} of {len(val['Unit'].unique())}: N. {unit} \\nCYCLE of {val[val['Unit'] == unit]['Cycle'].unique()[-1]}: \", end = ' ')\n",
    "\n",
    "    single_unit_state = np.empty((0,seq_len,X_columns))\n",
    "    single_unit_rul = np.empty((0,seq_len,Xw_columns))\n",
    "\n",
    "    c_idx = -1\n",
    "    \n",
    "    for cycle in list(val[val['Unit'] == unit]['Cycle'].unique()):\n",
    "        \n",
    "        print(cycle, end = ' ')\n",
    "\n",
    "        X_cycle = val[(val['Unit'] == unit) & (val['Cycle'] == cycle)].iloc[:, -X_columns:].to_numpy()\n",
    "\n",
    "        mod = len(X_cycle) % seq_len\n",
    "        ran = len(X_cycle) // seq_len\n",
    "\n",
    "        single_cycle_state = np.empty((0,seq_len,X_columns))\n",
    "        for idx in range(0, ran):\n",
    "            single_cycle_state = np.vstack((single_cycle_state, X_cycle[(mod + idx*seq_len): mod+seq_len + idx*seq_len].reshape(1, seq_len, X_columns) ))\n",
    "  \n",
    "        single_unit_state = np.vstack((single_unit_state, single_cycle_state))\n",
    "\n",
    "        state = val[(val['Unit'] == unit) & (val['Cycle'] == cycle)]['State'].iloc[0]\n",
    "\n",
    "        new_state = np.full((ran, 1), state)\n",
    "\n",
    "        y_val_state = np.vstack((y_val_state, new_state))  \n",
    "\n",
    "        if not state:\n",
    "            \n",
    "            single_cycle_rul = np.empty((0,seq_len,Xw_columns))\n",
    "\n",
    "            X_cycle = val[(val['Unit'] == unit) & (val['Cycle'] == cycle)].iloc[:, -Xw_columns:].to_numpy()\n",
    "\n",
    "            \n",
    "            rul = val[(val['Unit'] == unit) & (val['Cycle'] == cycle)]['RUL'].iloc[0]\n",
    "            \n",
    "            # Find new starting RUL c_idx\n",
    "            if c_idx == -1:\n",
    "                for c_idx, value in enumerate(ruls_inf):             \n",
    "                    if value <= rul:\n",
    "                        break\n",
    "            \n",
    "            new_rul = np.full((ran, 1), classes[c_idx])\n",
    "            \n",
    "            if (rul == ruls_inf[c_idx]):\n",
    "                c_idx += 1\n",
    "\n",
    "\n",
    "            y_val_rul = np.vstack((y_val_rul, new_rul))    \n",
    "\n",
    "            for idx in range(0, ran):\n",
    "            \n",
    "                single_cycle_rul = np.vstack((single_cycle_rul, X_cycle[(mod + idx*seq_len): mod+seq_len + idx*seq_len].reshape(1, seq_len, Xw_columns) ))\n",
    "  \n",
    "            single_unit_rul = np.vstack((single_unit_rul, single_cycle_rul))\n",
    "            \n",
    "    X_val_rul = np.vstack((X_val_rul, single_unit_rul))\n",
    "    X_val_state = np.vstack((X_val_state, single_unit_state))\n",
    "\n"
   ]
  },
  {
   "cell_type": "code",
   "execution_count": 10,
   "id": "be839478",
   "metadata": {
    "ExecuteTime": {
     "end_time": "2022-10-07T09:53:37.442560Z",
     "start_time": "2022-10-07T09:53:37.427114Z"
    },
    "colab": {
     "base_uri": "https://localhost:8080/"
    },
    "executionInfo": {
     "elapsed": 248,
     "status": "ok",
     "timestamp": 1665499694695,
     "user": {
      "displayName": "Giovanni Marco Bisanti",
      "userId": "17846268117624375118"
     },
     "user_tz": -120
    },
    "id": "be839478",
    "outputId": "dcaaafa4-d9df-4f33-f567-04b27e23623e"
   },
   "outputs": [
    {
     "name": "stdout",
     "output_type": "stream",
     "text": [
      "(218001, 10, 14)\n",
      "(218001, 1)\n",
      "(151384, 10, 18)\n",
      "(151384, 1)\n"
     ]
    }
   ],
   "source": [
    "print(X_val_state.shape)\n",
    "print(y_val_state.shape)\n",
    "print(X_val_rul.shape)\n",
    "print(y_val_rul.shape)"
   ]
  },
  {
   "cell_type": "code",
   "execution_count": 11,
   "id": "1bd216ab",
   "metadata": {
    "ExecuteTime": {
     "end_time": "2022-10-07T09:55:08.215918Z",
     "start_time": "2022-10-07T09:53:37.590181Z"
    },
    "colab": {
     "base_uri": "https://localhost:8080/"
    },
    "executionInfo": {
     "elapsed": 57808,
     "status": "ok",
     "timestamp": 1665499763144,
     "user": {
      "displayName": "Giovanni Marco Bisanti",
      "userId": "17846268117624375118"
     },
     "user_tz": -120
    },
    "id": "1bd216ab",
    "outputId": "ee8515f2-22ad-4b8b-d671-227721ec20ad"
   },
   "outputs": [
    {
     "name": "stdout",
     "output_type": "stream",
     "text": [
      "\n",
      "UNIT 1 of 3: N. 13 \n",
      "CYCLE of 77:  1 2 3 4 5 6 7 8 9 10 11 12 13 14 15 16 17 18 19 20 21 22 23 24 25 26 27 28 29 30 31 32 33 34 35 36 37 38 39 40 41 42 43 44 45 46 47 48 49 50 51 52 53 54 55 56 57 58 59 60 61 62 63 64 65 66 67 68 69 70 71 72 73 74 75 76 77 \n",
      "UNIT 2 of 3: N. 14 \n",
      "CYCLE of 76:  1 2 3 4 5 6 7 8 9 10 11 12 13 14 15 16 17 18 19 20 21 22 23 24 25 26 27 28 29 30 31 32 33 34 35 36 37 38 39 40 41 42 43 44 45 46 47 48 49 50 51 52 53 54 55 56 57 58 59 60 61 62 63 64 65 66 67 68 69 70 71 72 73 74 75 76 \n",
      "UNIT 3 of 3: N. 15 \n",
      "CYCLE of 67:  1 2 3 4 5 6 7 8 9 10 11 12 13 14 15 16 17 18 19 20 21 22 23 24 25 26 27 28 29 30 31 32 33 34 35 36 37 38 39 40 41 42 43 44 45 46 47 48 49 50 51 52 53 54 55 56 57 58 59 60 61 62 63 64 65 66 67 "
     ]
    }
   ],
   "source": [
    "# Rehsape data\n",
    "X_test_state = np.empty((0,seq_len,X_columns))\n",
    "y_test_state = np.empty((0,1))\n",
    "X_test_rul = np.empty((0,seq_len,Xw_columns))\n",
    "y_test_rul = np.empty((0,1))\n",
    "\n",
    "\n",
    "for idx, unit in enumerate(list(test['Unit'].unique()), start=1):\n",
    "    \n",
    "    print(f\"\\nUNIT {idx} of {len(test['Unit'].unique())}: N. {unit} \\nCYCLE of {test[test['Unit'] == unit]['Cycle'].unique()[-1]}: \", end = ' ')\n",
    "\n",
    "    single_unit_state = np.empty((0,seq_len,X_columns))\n",
    "    single_unit_rul = np.empty((0,seq_len,Xw_columns))\n",
    "\n",
    "    c_idx = -1\n",
    "    \n",
    "    for cycle in list(test[test['Unit'] == unit]['Cycle'].unique()):\n",
    "        \n",
    "        print(cycle, end = ' ')\n",
    "\n",
    "        X_cycle = test[(test['Unit'] == unit) & (test['Cycle'] == cycle)].iloc[:, -X_columns:].to_numpy()\n",
    "\n",
    "        mod = len(X_cycle) % seq_len\n",
    "        ran = len(X_cycle) // seq_len\n",
    "\n",
    "        single_cycle_state = np.empty((0,seq_len,X_columns))\n",
    "        for idx in range(0, ran):\n",
    "            single_cycle_state = np.vstack((single_cycle_state, X_cycle[(mod + idx*seq_len): mod+seq_len + idx*seq_len].reshape(1, seq_len, X_columns) ))\n",
    "  \n",
    "        single_unit_state = np.vstack((single_unit_state, single_cycle_state))\n",
    "\n",
    "        state = test[(test['Unit'] == unit) & (test['Cycle'] == cycle)]['State'].iloc[0]\n",
    "\n",
    "        new_state = np.full((ran, 1), state)\n",
    "\n",
    "        y_test_state = np.vstack((y_test_state, new_state))  \n",
    "\n",
    "        if not state:\n",
    "            \n",
    "            single_cycle_rul = np.empty((0,seq_len,Xw_columns))\n",
    "\n",
    "            X_cycle = test[(test['Unit'] == unit) & (test['Cycle'] == cycle)].iloc[:, -Xw_columns:].to_numpy()\n",
    "\n",
    "            \n",
    "            rul = test[(test['Unit'] == unit) & (test['Cycle'] == cycle)]['RUL'].iloc[0]\n",
    "            \n",
    "            # Find new starting RUL c_idx\n",
    "            if c_idx == -1:\n",
    "                for c_idx, value in enumerate(ruls_inf):             \n",
    "                    if value <= rul:\n",
    "                        break\n",
    "            \n",
    "            new_rul = np.full((ran, 1), classes[c_idx])\n",
    "            \n",
    "            if (rul == ruls_inf[c_idx]):\n",
    "                c_idx += 1\n",
    "\n",
    "\n",
    "            y_test_rul = np.vstack((y_test_rul, new_rul))    \n",
    "\n",
    "            for idx in range(0, ran):\n",
    "            \n",
    "                single_cycle_rul = np.vstack((single_cycle_rul, X_cycle[(mod + idx*seq_len): mod+seq_len + idx*seq_len].reshape(1, seq_len, Xw_columns) ))\n",
    "  \n",
    "            single_unit_rul = np.vstack((single_unit_rul, single_cycle_rul))\n",
    "            \n",
    "    X_test_rul = np.vstack((X_test_rul, single_unit_rul))\n",
    "    X_test_state = np.vstack((X_test_state, single_unit_state))\n",
    "\n"
   ]
  },
  {
   "cell_type": "code",
   "execution_count": 12,
   "id": "ba743636",
   "metadata": {
    "ExecuteTime": {
     "end_time": "2022-10-07T09:55:08.397239Z",
     "start_time": "2022-10-07T09:55:08.393483Z"
    },
    "colab": {
     "base_uri": "https://localhost:8080/"
    },
    "executionInfo": {
     "elapsed": 1079,
     "status": "ok",
     "timestamp": 1665499923246,
     "user": {
      "displayName": "Giovanni Marco Bisanti",
      "userId": "17846268117624375118"
     },
     "user_tz": -120
    },
    "id": "ba743636",
    "outputId": "6a0b5900-5ddd-4bfc-b310-050874498473"
   },
   "outputs": [
    {
     "name": "stdout",
     "output_type": "stream",
     "text": [
      "(206945, 10, 14)\n",
      "(206945, 1)\n",
      "(144167, 10, 18)\n",
      "(144167, 1)\n"
     ]
    }
   ],
   "source": [
    "print(X_test_state.shape)\n",
    "print(y_test_state.shape)\n",
    "print(X_test_rul.shape)\n",
    "print(y_test_rul.shape)"
   ]
  },
  {
   "cell_type": "code",
   "execution_count": 13,
   "id": "z4S5dO8UYCLX",
   "metadata": {
    "ExecuteTime": {
     "end_time": "2022-11-03T08:06:36.373681Z",
     "start_time": "2022-11-03T08:06:34.241133Z"
    },
    "colab": {
     "base_uri": "https://localhost:8080/",
     "height": 319
    },
    "executionInfo": {
     "elapsed": 284,
     "status": "ok",
     "timestamp": 1665430218770,
     "user": {
      "displayName": "Giovanni Marco Bisanti",
      "userId": "17846268117624375118"
     },
     "user_tz": -120
    },
    "id": "z4S5dO8UYCLX",
    "outputId": "718bfbfe-7945-4ad8-da00-4cb126da98e0"
   },
   "outputs": [
    {
     "data": {
      "text/plain": [
       "State\n",
       "0        371997\n",
       "1        184826\n",
       "dtype: int64"
      ]
     },
     "execution_count": 13,
     "metadata": {},
     "output_type": "execute_result"
    },
    {
     "data": {
      "image/png": "[encoded data removed]",
      "text/plain": [
       "<Figure size 640x480 with 1 Axes>"
      ]
     },
     "metadata": {},
     "output_type": "display_data"
    }
   ],
   "source": [
    "plot = pd.DataFrame(y_train_state, dtype='int64').value_counts().plot.pie(autopct='%.2f%%', label='')\n",
    "pd.DataFrame(y_train_state, columns = ['State'], dtype='int64').value_counts()"
   ]
  },
  {
   "cell_type": "code",
   "execution_count": 14,
   "id": "3QWvHlukQGa2",
   "metadata": {
    "ExecuteTime": {
     "end_time": "2022-11-03T08:06:36.686368Z",
     "start_time": "2022-11-03T08:06:36.477098Z"
    },
    "colab": {
     "base_uri": "https://localhost:8080/",
     "height": 337
    },
    "executionInfo": {
     "elapsed": 526,
     "status": "ok",
     "timestamp": 1665430219699,
     "user": {
      "displayName": "Giovanni Marco Bisanti",
      "userId": "17846268117624375118"
     },
     "user_tz": -120
    },
    "id": "3QWvHlukQGa2",
    "outputId": "61a1be5a-3567-42ea-b40d-74b7fd0d0314"
   },
   "outputs": [
    {
     "data": {
      "text/plain": [
       "RUL\n",
       "2      137731\n",
       "0      118907\n",
       "1      115359\n",
       "dtype: int64"
      ]
     },
     "execution_count": 14,
     "metadata": {},
     "output_type": "execute_result"
    },
    {
     "data": {
      "image/png": "[encoded data removed]",
      "text/plain": [
       "<Figure size 640x480 with 1 Axes>"
      ]
     },
     "metadata": {},
     "output_type": "display_data"
    }
   ],
   "source": [
    "plot = pd.DataFrame(y_train_rul, dtype='int64').value_counts().plot.pie(autopct='%.2f%%', label='')\n",
    "pd.DataFrame(y_train_rul, columns = ['RUL'], dtype='int64').value_counts()"
   ]
  },
  {
   "cell_type": "code",
   "execution_count": 15,
   "id": "56bd3cfd",
   "metadata": {
    "ExecuteTime": {
     "end_time": "2022-10-07T11:26:08.346322Z",
     "start_time": "2022-10-07T11:26:08.196170Z"
    },
    "colab": {
     "base_uri": "https://localhost:8080/",
     "height": 319
    },
    "executionInfo": {
     "elapsed": 517,
     "status": "ok",
     "timestamp": 1665430278058,
     "user": {
      "displayName": "Giovanni Marco Bisanti",
      "userId": "17846268117624375118"
     },
     "user_tz": -120
    },
    "id": "56bd3cfd",
    "outputId": "8f16590d-804f-4140-b6ac-edd99cd64842"
   },
   "outputs": [
    {
     "data": {
      "text/plain": [
       "State\n",
       "0        151384\n",
       "1         66617\n",
       "dtype: int64"
      ]
     },
     "execution_count": 15,
     "metadata": {},
     "output_type": "execute_result"
    },
    {
     "data": {
      "image/png": "[encoded data removed]",
      "text/plain": [
       "<Figure size 640x480 with 1 Axes>"
      ]
     },
     "metadata": {},
     "output_type": "display_data"
    }
   ],
   "source": [
    "plot = pd.DataFrame(y_val_state, dtype='int64').value_counts().plot.pie(autopct='%.2f', label='')\n",
    "pd.DataFrame(y_val_state, columns = ['State'], dtype='int64').value_counts()"
   ]
  },
  {
   "cell_type": "code",
   "execution_count": 16,
   "id": "RTUWRGVfYNDq",
   "metadata": {
    "colab": {
     "base_uri": "https://localhost:8080/",
     "height": 337
    },
    "executionInfo": {
     "elapsed": 474,
     "status": "ok",
     "timestamp": 1665430286514,
     "user": {
      "displayName": "Giovanni Marco Bisanti",
      "userId": "17846268117624375118"
     },
     "user_tz": -120
    },
    "id": "RTUWRGVfYNDq",
    "outputId": "5bd66a3f-4647-4667-80fe-b5fb00cbe879"
   },
   "outputs": [
    {
     "data": {
      "text/plain": [
       "RUL\n",
       "2      52737\n",
       "0      50746\n",
       "1      47901\n",
       "dtype: int64"
      ]
     },
     "execution_count": 16,
     "metadata": {},
     "output_type": "execute_result"
    },
    {
     "data": {
      "image/png": "[encoded data removed]",
      "text/plain": [
       "<Figure size 640x480 with 1 Axes>"
      ]
     },
     "metadata": {},
     "output_type": "display_data"
    }
   ],
   "source": [
    "plot = pd.DataFrame(y_val_rul, dtype='int64').value_counts().plot.pie(autopct='%.2f', label='')\n",
    "pd.DataFrame(y_val_rul, columns = ['RUL'], dtype='int64').value_counts()"
   ]
  },
  {
   "cell_type": "code",
   "execution_count": 17,
   "id": "034389ef",
   "metadata": {
    "ExecuteTime": {
     "end_time": "2022-10-07T11:26:09.148825Z",
     "start_time": "2022-10-07T11:26:08.962500Z"
    },
    "colab": {
     "base_uri": "https://localhost:8080/",
     "height": 319
    },
    "executionInfo": {
     "elapsed": 326,
     "status": "ok",
     "timestamp": 1665430313707,
     "user": {
      "displayName": "Giovanni Marco Bisanti",
      "userId": "17846268117624375118"
     },
     "user_tz": -120
    },
    "id": "034389ef",
    "outputId": "515299f4-fa90-446e-e692-be81306483ee"
   },
   "outputs": [
    {
     "data": {
      "text/plain": [
       "State\n",
       "0        144167\n",
       "1         62778\n",
       "dtype: int64"
      ]
     },
     "execution_count": 17,
     "metadata": {},
     "output_type": "execute_result"
    },
    {
     "data": {
      "image/png": "[encoded data removed]",
      "text/plain": [
       "<Figure size 640x480 with 1 Axes>"
      ]
     },
     "metadata": {},
     "output_type": "display_data"
    }
   ],
   "source": [
    "plot = pd.DataFrame(y_test_state, dtype='int64').value_counts().plot.pie(autopct='%.2f', label='')\n",
    "pd.DataFrame(y_test_state, columns = ['State'], dtype='int64').value_counts()"
   ]
  },
  {
   "cell_type": "code",
   "execution_count": 18,
   "id": "QmmBIwIoYYlT",
   "metadata": {
    "colab": {
     "base_uri": "https://localhost:8080/",
     "height": 337
    },
    "executionInfo": {
     "elapsed": 301,
     "status": "ok",
     "timestamp": 1665430332811,
     "user": {
      "displayName": "Giovanni Marco Bisanti",
      "userId": "17846268117624375118"
     },
     "user_tz": -120
    },
    "id": "QmmBIwIoYYlT",
    "outputId": "67fafbab-b8f0-42db-f01a-0c6c26fa4d69"
   },
   "outputs": [
    {
     "data": {
      "text/plain": [
       "RUL\n",
       "2      59136\n",
       "0      42970\n",
       "1      42061\n",
       "dtype: int64"
      ]
     },
     "execution_count": 18,
     "metadata": {},
     "output_type": "execute_result"
    },
    {
     "data": {
      "image/png": "[encoded data removed]",
      "text/plain": [
       "<Figure size 640x480 with 1 Axes>"
      ]
     },
     "metadata": {},
     "output_type": "display_data"
    }
   ],
   "source": [
    "plot = pd.DataFrame(y_test_rul, dtype='int64').value_counts().plot.pie(autopct='%.2f', label='')\n",
    "pd.DataFrame(y_test_rul, columns = ['RUL'], dtype='int64').value_counts()"
   ]
  },
  {
   "cell_type": "code",
   "execution_count": 19,
   "id": "59t8hY91YyRL",
   "metadata": {
    "ExecuteTime": {
     "end_time": "2022-11-23T10:50:27.127397Z",
     "start_time": "2022-11-23T10:50:25.927370Z"
    },
    "colab": {
     "base_uri": "https://localhost:8080/"
    },
    "executionInfo": {
     "elapsed": 1992,
     "status": "ok",
     "timestamp": 1665471191060,
     "user": {
      "displayName": "Giovanni Marco Bisanti",
      "userId": "17846268117624375118"
     },
     "user_tz": -120
    },
    "id": "59t8hY91YyRL",
    "outputId": "a75f2a8e-1158-4a42-ab5c-dc68202ae4f1",
    "scrolled": true
   },
   "outputs": [
    {
     "name": "stdout",
     "output_type": "stream",
     "text": [
      "Model: \"sequential\"\n",
      "_________________________________________________________________\n",
      " Layer (type)                Output Shape              Param #   \n",
      "=================================================================\n",
      " bidirectional (Bidirectiona  (None, 10, 32)           3968      \n",
      " l)                                                              \n",
      "                                                                 \n",
      " bidirectional_1 (Bidirectio  (None, 32)               6272      \n",
      " nal)                                                            \n",
      "                                                                 \n",
      " dense (Dense)               (None, 16)                528       \n",
      "                                                                 \n",
      " dense_1 (Dense)             (None, 2)                 34        \n",
      "                                                                 \n",
      "=================================================================\n",
      "Total params: 10,802\n",
      "Trainable params: 10,802\n",
      "Non-trainable params: 0\n",
      "_________________________________________________________________\n"
     ]
    }
   ],
   "source": [
    "model = Sequential()\n",
    "\n",
    "model.add(Bidirectional(LSTM(16, return_sequences=True, recurrent_dropout = 0.1), input_shape=(X_train_state.shape[1], X_train_state.shape[2])))\n",
    "model.add(Bidirectional(LSTM(16, return_sequences=False, recurrent_dropout = 0.1)))\n",
    "\n",
    "model.add(Dense(16, activation='relu'))\n",
    "model.add(Dense(2, activation='softmax'))\n",
    "\n",
    "opt = Adam(learning_rate=0.001)\n",
    "\n",
    "model.compile(loss='sparse_categorical_crossentropy',\n",
    "              optimizer=opt, \n",
    "              metrics=['accuracy'])\n",
    "\n",
    "model.summary()"
   ]
  },
  {
   "cell_type": "code",
   "execution_count": 20,
   "id": "fEnHozi2Y242",
   "metadata": {
    "ExecuteTime": {
     "end_time": "2022-11-04T15:08:11.904994Z",
     "start_time": "2022-11-04T14:56:20.939972Z"
    },
    "colab": {
     "base_uri": "https://localhost:8080/"
    },
    "executionInfo": {
     "elapsed": 4343400,
     "status": "ok",
     "timestamp": 1665479474055,
     "user": {
      "displayName": "Giovanni Marco Bisanti",
      "userId": "17846268117624375118"
     },
     "user_tz": -120
    },
    "id": "fEnHozi2Y242",
    "outputId": "da7ee04a-eefd-465e-e125-86cef1cad006"
   },
   "outputs": [],
   "source": [
    "epochs = 10\n",
    "tot_epochs = []\n",
    "\n",
    "train_loss = []\n",
    "val_loss = []\n",
    "\n",
    "train_acc = []\n",
    "val_acc = []\n",
    "\n",
    "loss = 1\n",
    "\n",
    "try:\n",
    "    model = load_model(learning_path + f'state_{dataset}_model_{seq_len}.h5')\n",
    "except:\n",
    "    for epoch in range(1, epochs+1):\n",
    "        print(f'Epoch {epoch}/{epochs}')\n",
    "        tot_epochs.append(epoch)\n",
    "        history =  model.fit(X_train_state, y_train_state, validation_data=(X_val_state, y_val_state), verbose=1, epochs=1)\n",
    "        train_loss.append(round(history.history['loss'][0],4))\n",
    "        train_acc.append(round(history.history['accuracy'][0],4))\n",
    "        val_loss.append(round(history.history['val_loss'][0],4))\n",
    "        val_acc.append(round(history.history['val_accuracy'][0],4))\n",
    "        if val_loss[epoch-1] <= loss:\n",
    "            model.save(learning_path + f'state_{dataset}_model_{seq_len}.h5')\n",
    "            loss = val_loss[epoch-1]"
   ]
  },
  {
   "cell_type": "code",
   "execution_count": 21,
   "id": "51259056",
   "metadata": {
    "ExecuteTime": {
     "end_time": "2022-11-07T19:50:04.618433Z",
     "start_time": "2022-11-07T19:49:32.598882Z"
    }
   },
   "outputs": [
    {
     "name": "stdout",
     "output_type": "stream",
     "text": [
      "6468/6468 [==============================] - 26s 4ms/step - loss: 0.1953 - accuracy: 0.9220\n"
     ]
    }
   ],
   "source": [
    "scores = model.evaluate(X_test_state, y_test_state)"
   ]
  },
  {
   "cell_type": "code",
   "execution_count": 22,
   "id": "d5412fa9",
   "metadata": {
    "ExecuteTime": {
     "end_time": "2022-11-07T19:50:36.301193Z",
     "start_time": "2022-11-07T19:50:05.073120Z"
    }
   },
   "outputs": [
    {
     "name": "stdout",
     "output_type": "stream",
     "text": [
      "6468/6468 [==============================] - 24s 3ms/step\n",
      "              precision    recall  f1-score   support\n",
      "\n",
      "         0.0       0.96      0.93      0.94    144167\n",
      "         1.0       0.85      0.90      0.88     62778\n",
      "\n",
      "    accuracy                           0.92    206945\n",
      "   macro avg       0.90      0.92      0.91    206945\n",
      "weighted avg       0.92      0.92      0.92    206945\n",
      "\n"
     ]
    }
   ],
   "source": [
    "# Obtain a classification report\n",
    "pred = model.predict(X_test_state)\n",
    "y_pred = np.argmax(pred, axis=1)\n",
    "print(classification_report(y_test_state, y_pred))"
   ]
  },
  {
   "cell_type": "code",
   "execution_count": 23,
   "id": "07ea2156",
   "metadata": {
    "ExecuteTime": {
     "end_time": "2022-11-23T11:10:42.964512Z",
     "start_time": "2022-11-23T11:10:42.146254Z"
    },
    "colab": {
     "base_uri": "https://localhost:8080/"
    },
    "executionInfo": {
     "elapsed": 1426,
     "status": "ok",
     "timestamp": 1665500022009,
     "user": {
      "displayName": "Giovanni Marco Bisanti",
      "userId": "17846268117624375118"
     },
     "user_tz": -120
    },
    "id": "07ea2156",
    "outputId": "4e3752d1-aae9-45d0-b911-e7ef4ac01bd4"
   },
   "outputs": [
    {
     "name": "stdout",
     "output_type": "stream",
     "text": [
      "Model: \"sequential_1\"\n",
      "_________________________________________________________________\n",
      " Layer (type)                Output Shape              Param #   \n",
      "=================================================================\n",
      " bidirectional_2 (Bidirectio  (None, 10, 32)           4480      \n",
      " nal)                                                            \n",
      "                                                                 \n",
      " bidirectional_3 (Bidirectio  (None, 32)               6272      \n",
      " nal)                                                            \n",
      "                                                                 \n",
      " dense_2 (Dense)             (None, 16)                528       \n",
      "                                                                 \n",
      " dense_3 (Dense)             (None, 3)                 51        \n",
      "                                                                 \n",
      "=================================================================\n",
      "Total params: 11,331\n",
      "Trainable params: 11,331\n",
      "Non-trainable params: 0\n",
      "_________________________________________________________________\n"
     ]
    }
   ],
   "source": [
    "model = Sequential()\n",
    "\n",
    "model.add(Bidirectional(LSTM(16, return_sequences=True, recurrent_dropout = 0.1), input_shape=(X_train_rul.shape[1], X_train_rul.shape[2])))\n",
    "model.add(Bidirectional(LSTM(16, return_sequences=False, recurrent_dropout = 0.1)))\n",
    "\n",
    "model.add(Dense(16, activation='relu'))\n",
    "model.add(Dense(len(classes), activation='softmax'))\n",
    "\n",
    "opt = Adam(learning_rate=0.001)\n",
    "\n",
    "model.compile(loss='sparse_categorical_crossentropy',\n",
    "              optimizer=opt, \n",
    "              metrics=['accuracy'])\n",
    "\n",
    "model.summary()"
   ]
  },
  {
   "cell_type": "code",
   "execution_count": 24,
   "id": "e25aed45",
   "metadata": {
    "ExecuteTime": {
     "end_time": "2022-11-04T15:14:15.232652Z",
     "start_time": "2022-11-04T15:08:21.614673Z"
    },
    "colab": {
     "base_uri": "https://localhost:8080/",
     "height": 514
    },
    "executionInfo": {
     "elapsed": 841940,
     "status": "error",
     "timestamp": 1665500962781,
     "user": {
      "displayName": "Giovanni Marco Bisanti",
      "userId": "17846268117624375118"
     },
     "user_tz": -120
    },
    "id": "e25aed45",
    "outputId": "10f616b0-c348-44fc-f463-36c897beb97f"
   },
   "outputs": [],
   "source": [
    "epochs = 10\n",
    "tot_epochs = []\n",
    "\n",
    "train_loss = []\n",
    "val_loss = []\n",
    "\n",
    "train_acc = []\n",
    "val_acc = []\n",
    "\n",
    "loss = 1\n",
    "\n",
    "try:\n",
    "    model = load_model(learning_path + f'rul_{dataset}_model_{seq_len}.h5')\n",
    "except:\n",
    "    for epoch in range(1, epochs+1):\n",
    "        print(f'Epoch {epoch}/{epochs}')\n",
    "        tot_epochs.append(epoch)\n",
    "        history =  model.fit(X_train_rul, y_train_rul, validation_data=(X_val_rul, y_val_rul), verbose=1, epochs=1)\n",
    "        train_loss.append(round(history.history['loss'][0],4))\n",
    "        train_acc.append(round(history.history['accuracy'][0],4))\n",
    "        val_loss.append(round(history.history['val_loss'][0],4))\n",
    "        val_acc.append(round(history.history['val_accuracy'][0],4))\n",
    "        if val_loss[epoch-1] <= loss:\n",
    "            model.save(learning_path + f'rul_{dataset}_model_{seq_len}.h5')\n",
    "            loss = val_loss[epoch-1]"
   ]
  },
  {
   "cell_type": "code",
   "execution_count": 25,
   "id": "iA-MSltbjIM6",
   "metadata": {
    "ExecuteTime": {
     "end_time": "2022-11-07T19:51:05.039790Z",
     "start_time": "2022-11-07T19:50:36.863707Z"
    },
    "colab": {
     "base_uri": "https://localhost:8080/"
    },
    "executionInfo": {
     "elapsed": 42996,
     "status": "ok",
     "timestamp": 1665493189997,
     "user": {
      "displayName": "Giovanni Marco Bisanti",
      "userId": "17846268117624375118"
     },
     "user_tz": -120
    },
    "id": "iA-MSltbjIM6",
    "outputId": "2be172f8-732a-4629-8837-d2506e842f83"
   },
   "outputs": [
    {
     "name": "stdout",
     "output_type": "stream",
     "text": [
      "4506/4506 [==============================] - 25s 5ms/step - loss: 0.2330 - accuracy: 0.9109\n"
     ]
    }
   ],
   "source": [
    "scores = model.evaluate(X_test_rul, y_test_rul)"
   ]
  },
  {
   "cell_type": "code",
   "execution_count": 26,
   "id": "e638506a",
   "metadata": {
    "ExecuteTime": {
     "end_time": "2022-11-07T19:18:54.133562Z",
     "start_time": "2022-11-07T19:18:29.887349Z"
    }
   },
   "outputs": [
    {
     "name": "stdout",
     "output_type": "stream",
     "text": [
      "4506/4506 [==============================] - 21s 4ms/step\n",
      "              precision    recall  f1-score   support\n",
      "\n",
      "         0.0       0.96      0.97      0.96     42970\n",
      "         1.0       0.81      0.91      0.86     42061\n",
      "         2.0       0.96      0.87      0.91     59136\n",
      "\n",
      "    accuracy                           0.91    144167\n",
      "   macro avg       0.91      0.92      0.91    144167\n",
      "weighted avg       0.92      0.91      0.91    144167\n",
      "\n"
     ]
    }
   ],
   "source": [
    "# Obtain a classification report\n",
    "pred = model.predict(X_test_rul)\n",
    "y_pred = np.argmax(pred, axis=1)\n",
    "print(classification_report(y_test_rul, y_pred))"
   ]
  }
 ],
 "metadata": {
  "colab": {
   "collapsed_sections": [],
   "provenance": []
  },
  "kernelspec": {
   "display_name": "Python 3 (ipykernel)",
   "language": "python",
   "name": "python3"
  },
  "language_info": {
   "codemirror_mode": {
    "name": "ipython",
    "version": 3
   },
   "file_extension": ".py",
   "mimetype": "text/x-python",
   "name": "python",
   "nbconvert_exporter": "python",
   "pygments_lexer": "ipython3",
   "version": "3.10.11"
  },
  "latex_envs": {
   "LaTeX_envs_menu_present": true,
   "autoclose": false,
   "autocomplete": true,
   "bibliofile": "biblio.bib",
   "cite_by": "apalike",
   "current_citInitial": 1,
   "eqLabelWithNumbers": true,
   "eqNumInitial": 1,
   "hotkeys": {
    "equation": "Ctrl-E",
    "itemize": "Ctrl-I"
   },
   "labels_anchors": false,
   "latex_user_defs": false,
   "report_style_numbering": false,
   "user_envs_cfg": false
  },
  "toc": {
   "base_numbering": 1,
   "nav_menu": {},
   "number_sections": true,
   "sideBar": true,
   "skip_h1_title": false,
   "title_cell": "Table of Contents",
   "title_sidebar": "Contents",
   "toc_cell": false,
   "toc_position": {},
   "toc_section_display": true,
   "toc_window_display": false
  },
  "varInspector": {
   "cols": {
    "lenName": 16,
    "lenType": 16,
    "lenVar": 40
   },
   "kernels_config": {
    "python": {
     "delete_cmd_postfix": "",
     "delete_cmd_prefix": "del ",
     "library": "var_list.py",
     "varRefreshCmd": "print(var_dic_list())"
    },
    "r": {
     "delete_cmd_postfix": ") ",
     "delete_cmd_prefix": "rm(",
     "library": "var_list.r",
     "varRefreshCmd": "cat(var_dic_list()) "
    }
   },
   "types_to_exclude": [
    "module",
    "function",
    "builtin_function_or_method",
    "instance",
    "_Feature"
   ],
   "window_display": false
  }
 },
 "nbformat": 4,
 "nbformat_minor": 5
}
